{
 "cells": [
  {
   "cell_type": "markdown",
   "id": "b29dec04",
   "metadata": {
    "papermill": {
     "duration": 0.006145,
     "end_time": "2024-03-10T21:05:52.830506",
     "exception": false,
     "start_time": "2024-03-10T21:05:52.824361",
     "status": "completed"
    },
    "tags": []
   },
   "source": [
    "## Installing UCI Machine Learning Repository"
   ]
  },
  {
   "cell_type": "code",
   "execution_count": 1,
   "id": "1716057a",
   "metadata": {
    "execution": {
     "iopub.execute_input": "2024-03-10T21:05:52.843753Z",
     "iopub.status.busy": "2024-03-10T21:05:52.843357Z",
     "iopub.status.idle": "2024-03-10T21:06:04.131570Z",
     "shell.execute_reply": "2024-03-10T21:06:04.130139Z"
    },
    "papermill": {
     "duration": 11.297669,
     "end_time": "2024-03-10T21:06:04.133924",
     "exception": false,
     "start_time": "2024-03-10T21:05:52.836255",
     "status": "completed"
    },
    "tags": []
   },
   "outputs": [
    {
     "name": "stdout",
     "output_type": "stream",
     "text": [
      "Collecting ucimlrepo\r\n",
      "  Downloading ucimlrepo-0.0.3-py3-none-any.whl.metadata (5.2 kB)\r\n",
      "Downloading ucimlrepo-0.0.3-py3-none-any.whl (7.0 kB)\r\n",
      "Installing collected packages: ucimlrepo\r\n",
      "Successfully installed ucimlrepo-0.0.3\r\n",
      "Note: you may need to restart the kernel to use updated packages.\n"
     ]
    }
   ],
   "source": [
    "pip install ucimlrepo\n"
   ]
  },
  {
   "cell_type": "markdown",
   "id": "ed7aa55f",
   "metadata": {
    "papermill": {
     "duration": 0.005668,
     "end_time": "2024-03-10T21:06:04.145670",
     "exception": false,
     "start_time": "2024-03-10T21:06:04.140002",
     "status": "completed"
    },
    "tags": []
   },
   "source": [
    "## Importing neccesary packages"
   ]
  },
  {
   "cell_type": "code",
   "execution_count": 2,
   "id": "56021aa2",
   "metadata": {
    "_cell_guid": "b1076dfc-b9ad-4769-8c92-a6c4dae69d19",
    "_uuid": "8f2839f25d086af736a60e9eeb907d3b93b6e0e5",
    "execution": {
     "iopub.execute_input": "2024-03-10T21:06:04.159024Z",
     "iopub.status.busy": "2024-03-10T21:06:04.158676Z",
     "iopub.status.idle": "2024-03-10T21:06:06.603695Z",
     "shell.execute_reply": "2024-03-10T21:06:06.602819Z"
    },
    "papermill": {
     "duration": 2.454739,
     "end_time": "2024-03-10T21:06:06.606241",
     "exception": false,
     "start_time": "2024-03-10T21:06:04.151502",
     "status": "completed"
    },
    "tags": []
   },
   "outputs": [],
   "source": [
    "from ucimlrepo import fetch_ucirepo\n",
    "import pandas as pd\n",
    "import numpy as np\n",
    "from sklearn.model_selection import train_test_split\n",
    "from sklearn.preprocessing import StandardScaler\n",
    "from sklearn.linear_model import LogisticRegression\n",
    "from sklearn.metrics import accuracy_score, classification_report, confusion_matrix\n",
    "from sklearn.naive_bayes import GaussianNB\n",
    "from sklearn.neighbors import KNeighborsClassifier\n",
    "from sklearn.svm import SVC\n",
    "from sklearn.tree import DecisionTreeClassifier\n",
    "from sklearn.ensemble import RandomForestClassifier\n",
    "import seaborn as sns\n",
    "import matplotlib.pyplot as plt"
   ]
  },
  {
   "cell_type": "markdown",
   "id": "4cdec043",
   "metadata": {
    "papermill": {
     "duration": 0.005506,
     "end_time": "2024-03-10T21:06:06.617754",
     "exception": false,
     "start_time": "2024-03-10T21:06:06.612248",
     "status": "completed"
    },
    "tags": []
   },
   "source": [
    "## Importing and Pre-processing the Data\n"
   ]
  },
  {
   "cell_type": "code",
   "execution_count": 3,
   "id": "a30ac15b",
   "metadata": {
    "execution": {
     "iopub.execute_input": "2024-03-10T21:06:06.630714Z",
     "iopub.status.busy": "2024-03-10T21:06:06.630246Z",
     "iopub.status.idle": "2024-03-10T21:06:07.102767Z",
     "shell.execute_reply": "2024-03-10T21:06:07.101888Z"
    },
    "papermill": {
     "duration": 0.481521,
     "end_time": "2024-03-10T21:06:07.104887",
     "exception": false,
     "start_time": "2024-03-10T21:06:06.623366",
     "status": "completed"
    },
    "tags": []
   },
   "outputs": [
    {
     "data": {
      "text/plain": [
       "array([1, 1, 1, ..., 0, 0, 0])"
      ]
     },
     "execution_count": 3,
     "metadata": {},
     "output_type": "execute_result"
    }
   ],
   "source": [
    "# fetch dataset\n",
    "spambase = fetch_ucirepo(id=94)\n",
    "\n",
    "# data (as pandas dataframes)\n",
    "X = spambase.data.features\n",
    "y = spambase.data.targets\n",
    "np.ravel(y)"
   ]
  },
  {
   "cell_type": "code",
   "execution_count": 4,
   "id": "ee11f4d8",
   "metadata": {
    "execution": {
     "iopub.execute_input": "2024-03-10T21:06:07.119038Z",
     "iopub.status.busy": "2024-03-10T21:06:07.118492Z",
     "iopub.status.idle": "2024-03-10T21:06:07.146685Z",
     "shell.execute_reply": "2024-03-10T21:06:07.145874Z"
    },
    "papermill": {
     "duration": 0.037394,
     "end_time": "2024-03-10T21:06:07.148512",
     "exception": false,
     "start_time": "2024-03-10T21:06:07.111118",
     "status": "completed"
    },
    "tags": []
   },
   "outputs": [
    {
     "data": {
      "text/html": [
       "<div>\n",
       "<style scoped>\n",
       "    .dataframe tbody tr th:only-of-type {\n",
       "        vertical-align: middle;\n",
       "    }\n",
       "\n",
       "    .dataframe tbody tr th {\n",
       "        vertical-align: top;\n",
       "    }\n",
       "\n",
       "    .dataframe thead th {\n",
       "        text-align: right;\n",
       "    }\n",
       "</style>\n",
       "<table border=\"1\" class=\"dataframe\">\n",
       "  <thead>\n",
       "    <tr style=\"text-align: right;\">\n",
       "      <th></th>\n",
       "      <th>word_freq_make</th>\n",
       "      <th>word_freq_address</th>\n",
       "      <th>word_freq_all</th>\n",
       "      <th>word_freq_3d</th>\n",
       "      <th>word_freq_our</th>\n",
       "      <th>word_freq_over</th>\n",
       "      <th>word_freq_remove</th>\n",
       "      <th>word_freq_internet</th>\n",
       "      <th>word_freq_order</th>\n",
       "      <th>word_freq_mail</th>\n",
       "      <th>...</th>\n",
       "      <th>word_freq_conference</th>\n",
       "      <th>char_freq_;</th>\n",
       "      <th>char_freq_(</th>\n",
       "      <th>char_freq_[</th>\n",
       "      <th>char_freq_!</th>\n",
       "      <th>char_freq_$</th>\n",
       "      <th>char_freq_#</th>\n",
       "      <th>capital_run_length_average</th>\n",
       "      <th>capital_run_length_longest</th>\n",
       "      <th>capital_run_length_total</th>\n",
       "    </tr>\n",
       "  </thead>\n",
       "  <tbody>\n",
       "    <tr>\n",
       "      <th>0</th>\n",
       "      <td>0.00</td>\n",
       "      <td>0.64</td>\n",
       "      <td>0.64</td>\n",
       "      <td>0.0</td>\n",
       "      <td>0.32</td>\n",
       "      <td>0.00</td>\n",
       "      <td>0.00</td>\n",
       "      <td>0.00</td>\n",
       "      <td>0.00</td>\n",
       "      <td>0.00</td>\n",
       "      <td>...</td>\n",
       "      <td>0.0</td>\n",
       "      <td>0.00</td>\n",
       "      <td>0.000</td>\n",
       "      <td>0.0</td>\n",
       "      <td>0.778</td>\n",
       "      <td>0.000</td>\n",
       "      <td>0.000</td>\n",
       "      <td>3.756</td>\n",
       "      <td>61</td>\n",
       "      <td>278</td>\n",
       "    </tr>\n",
       "    <tr>\n",
       "      <th>1</th>\n",
       "      <td>0.21</td>\n",
       "      <td>0.28</td>\n",
       "      <td>0.50</td>\n",
       "      <td>0.0</td>\n",
       "      <td>0.14</td>\n",
       "      <td>0.28</td>\n",
       "      <td>0.21</td>\n",
       "      <td>0.07</td>\n",
       "      <td>0.00</td>\n",
       "      <td>0.94</td>\n",
       "      <td>...</td>\n",
       "      <td>0.0</td>\n",
       "      <td>0.00</td>\n",
       "      <td>0.132</td>\n",
       "      <td>0.0</td>\n",
       "      <td>0.372</td>\n",
       "      <td>0.180</td>\n",
       "      <td>0.048</td>\n",
       "      <td>5.114</td>\n",
       "      <td>101</td>\n",
       "      <td>1028</td>\n",
       "    </tr>\n",
       "    <tr>\n",
       "      <th>2</th>\n",
       "      <td>0.06</td>\n",
       "      <td>0.00</td>\n",
       "      <td>0.71</td>\n",
       "      <td>0.0</td>\n",
       "      <td>1.23</td>\n",
       "      <td>0.19</td>\n",
       "      <td>0.19</td>\n",
       "      <td>0.12</td>\n",
       "      <td>0.64</td>\n",
       "      <td>0.25</td>\n",
       "      <td>...</td>\n",
       "      <td>0.0</td>\n",
       "      <td>0.01</td>\n",
       "      <td>0.143</td>\n",
       "      <td>0.0</td>\n",
       "      <td>0.276</td>\n",
       "      <td>0.184</td>\n",
       "      <td>0.010</td>\n",
       "      <td>9.821</td>\n",
       "      <td>485</td>\n",
       "      <td>2259</td>\n",
       "    </tr>\n",
       "    <tr>\n",
       "      <th>3</th>\n",
       "      <td>0.00</td>\n",
       "      <td>0.00</td>\n",
       "      <td>0.00</td>\n",
       "      <td>0.0</td>\n",
       "      <td>0.63</td>\n",
       "      <td>0.00</td>\n",
       "      <td>0.31</td>\n",
       "      <td>0.63</td>\n",
       "      <td>0.31</td>\n",
       "      <td>0.63</td>\n",
       "      <td>...</td>\n",
       "      <td>0.0</td>\n",
       "      <td>0.00</td>\n",
       "      <td>0.137</td>\n",
       "      <td>0.0</td>\n",
       "      <td>0.137</td>\n",
       "      <td>0.000</td>\n",
       "      <td>0.000</td>\n",
       "      <td>3.537</td>\n",
       "      <td>40</td>\n",
       "      <td>191</td>\n",
       "    </tr>\n",
       "    <tr>\n",
       "      <th>4</th>\n",
       "      <td>0.00</td>\n",
       "      <td>0.00</td>\n",
       "      <td>0.00</td>\n",
       "      <td>0.0</td>\n",
       "      <td>0.63</td>\n",
       "      <td>0.00</td>\n",
       "      <td>0.31</td>\n",
       "      <td>0.63</td>\n",
       "      <td>0.31</td>\n",
       "      <td>0.63</td>\n",
       "      <td>...</td>\n",
       "      <td>0.0</td>\n",
       "      <td>0.00</td>\n",
       "      <td>0.135</td>\n",
       "      <td>0.0</td>\n",
       "      <td>0.135</td>\n",
       "      <td>0.000</td>\n",
       "      <td>0.000</td>\n",
       "      <td>3.537</td>\n",
       "      <td>40</td>\n",
       "      <td>191</td>\n",
       "    </tr>\n",
       "  </tbody>\n",
       "</table>\n",
       "<p>5 rows × 57 columns</p>\n",
       "</div>"
      ],
      "text/plain": [
       "   word_freq_make  word_freq_address  word_freq_all  word_freq_3d  \\\n",
       "0            0.00               0.64           0.64           0.0   \n",
       "1            0.21               0.28           0.50           0.0   \n",
       "2            0.06               0.00           0.71           0.0   \n",
       "3            0.00               0.00           0.00           0.0   \n",
       "4            0.00               0.00           0.00           0.0   \n",
       "\n",
       "   word_freq_our  word_freq_over  word_freq_remove  word_freq_internet  \\\n",
       "0           0.32            0.00              0.00                0.00   \n",
       "1           0.14            0.28              0.21                0.07   \n",
       "2           1.23            0.19              0.19                0.12   \n",
       "3           0.63            0.00              0.31                0.63   \n",
       "4           0.63            0.00              0.31                0.63   \n",
       "\n",
       "   word_freq_order  word_freq_mail  ...  word_freq_conference  char_freq_;  \\\n",
       "0             0.00            0.00  ...                   0.0         0.00   \n",
       "1             0.00            0.94  ...                   0.0         0.00   \n",
       "2             0.64            0.25  ...                   0.0         0.01   \n",
       "3             0.31            0.63  ...                   0.0         0.00   \n",
       "4             0.31            0.63  ...                   0.0         0.00   \n",
       "\n",
       "   char_freq_(  char_freq_[  char_freq_!  char_freq_$  char_freq_#  \\\n",
       "0        0.000          0.0        0.778        0.000        0.000   \n",
       "1        0.132          0.0        0.372        0.180        0.048   \n",
       "2        0.143          0.0        0.276        0.184        0.010   \n",
       "3        0.137          0.0        0.137        0.000        0.000   \n",
       "4        0.135          0.0        0.135        0.000        0.000   \n",
       "\n",
       "   capital_run_length_average  capital_run_length_longest  \\\n",
       "0                       3.756                          61   \n",
       "1                       5.114                         101   \n",
       "2                       9.821                         485   \n",
       "3                       3.537                          40   \n",
       "4                       3.537                          40   \n",
       "\n",
       "   capital_run_length_total  \n",
       "0                       278  \n",
       "1                      1028  \n",
       "2                      2259  \n",
       "3                       191  \n",
       "4                       191  \n",
       "\n",
       "[5 rows x 57 columns]"
      ]
     },
     "execution_count": 4,
     "metadata": {},
     "output_type": "execute_result"
    }
   ],
   "source": [
    "X.head()"
   ]
  },
  {
   "cell_type": "code",
   "execution_count": 5,
   "id": "709ae4be",
   "metadata": {
    "execution": {
     "iopub.execute_input": "2024-03-10T21:06:07.164589Z",
     "iopub.status.busy": "2024-03-10T21:06:07.164206Z",
     "iopub.status.idle": "2024-03-10T21:06:07.175280Z",
     "shell.execute_reply": "2024-03-10T21:06:07.174062Z"
    },
    "papermill": {
     "duration": 0.022571,
     "end_time": "2024-03-10T21:06:07.177499",
     "exception": false,
     "start_time": "2024-03-10T21:06:07.154928",
     "status": "completed"
    },
    "tags": []
   },
   "outputs": [],
   "source": [
    "#train-test Split \n",
    "# Using np.ravel() to ensure that y_train and y_test is a 1D array, which matches the expected shape for the target array in scikit-learn models.\n",
    "X_train,X_test, y_train, y_test = train_test_split(X,np.ravel(y), test_size=0.2, random_state=42)"
   ]
  },
  {
   "cell_type": "code",
   "execution_count": 6,
   "id": "32fd1e48",
   "metadata": {
    "execution": {
     "iopub.execute_input": "2024-03-10T21:06:07.192587Z",
     "iopub.status.busy": "2024-03-10T21:06:07.192245Z",
     "iopub.status.idle": "2024-03-10T21:06:07.206959Z",
     "shell.execute_reply": "2024-03-10T21:06:07.205971Z"
    },
    "papermill": {
     "duration": 0.02536,
     "end_time": "2024-03-10T21:06:07.209349",
     "exception": false,
     "start_time": "2024-03-10T21:06:07.183989",
     "status": "completed"
    },
    "tags": []
   },
   "outputs": [],
   "source": [
    "#Standardisation \n",
    "scaler = StandardScaler()\n",
    "X_train_scaled = scaler.fit_transform(X_train)\n",
    "X_test_scaled = scaler.fit_transform(X_test)"
   ]
  },
  {
   "cell_type": "markdown",
   "id": "33b5eaa2",
   "metadata": {
    "papermill": {
     "duration": 0.006141,
     "end_time": "2024-03-10T21:06:07.222039",
     "exception": false,
     "start_time": "2024-03-10T21:06:07.215898",
     "status": "completed"
    },
    "tags": []
   },
   "source": [
    "# Model Training and Evaluation"
   ]
  },
  {
   "cell_type": "markdown",
   "id": "5aca3e5b",
   "metadata": {
    "papermill": {
     "duration": 0.005906,
     "end_time": "2024-03-10T21:06:07.234067",
     "exception": false,
     "start_time": "2024-03-10T21:06:07.228161",
     "status": "completed"
    },
    "tags": []
   },
   "source": [
    "## Logisitc Regression"
   ]
  },
  {
   "cell_type": "code",
   "execution_count": 7,
   "id": "6fb51b7d",
   "metadata": {
    "execution": {
     "iopub.execute_input": "2024-03-10T21:06:07.247901Z",
     "iopub.status.busy": "2024-03-10T21:06:07.247573Z",
     "iopub.status.idle": "2024-03-10T21:06:07.300709Z",
     "shell.execute_reply": "2024-03-10T21:06:07.299799Z"
    },
    "papermill": {
     "duration": 0.062326,
     "end_time": "2024-03-10T21:06:07.302597",
     "exception": false,
     "start_time": "2024-03-10T21:06:07.240271",
     "status": "completed"
    },
    "tags": []
   },
   "outputs": [
    {
     "name": "stdout",
     "output_type": "stream",
     "text": [
      "The Accuracy Achieved using Logistic Regression is: 91.31378935939196 %\n",
      "              precision    recall  f1-score   support\n",
      "\n",
      "           0       0.90      0.96      0.93       531\n",
      "           1       0.94      0.85      0.89       390\n",
      "\n",
      "    accuracy                           0.91       921\n",
      "   macro avg       0.92      0.90      0.91       921\n",
      "weighted avg       0.91      0.91      0.91       921\n",
      "\n"
     ]
    }
   ],
   "source": [
    "logistic_reg = LogisticRegression()\n",
    "logistic_reg.fit(X_train_scaled,(y_train))\n",
    "\n",
    "logistic_reg_pred = logistic_reg.predict(X_test_scaled)\n",
    "logistic_reg_accuracy = accuracy_score(y_test, logistic_reg_pred)\n",
    "print(\"The Accuracy Achieved using Logistic Regression is:\", logistic_reg_accuracy*100,\"%\",)\n",
    "print(classification_report(y_test,logistic_reg_pred))"
   ]
  },
  {
   "cell_type": "code",
   "execution_count": 8,
   "id": "875acf6c",
   "metadata": {
    "execution": {
     "iopub.execute_input": "2024-03-10T21:06:07.320312Z",
     "iopub.status.busy": "2024-03-10T21:06:07.319971Z",
     "iopub.status.idle": "2024-03-10T21:06:07.460239Z",
     "shell.execute_reply": "2024-03-10T21:06:07.459537Z"
    },
    "papermill": {
     "duration": 0.151152,
     "end_time": "2024-03-10T21:06:07.462141",
     "exception": false,
     "start_time": "2024-03-10T21:06:07.310989",
     "status": "completed"
    },
    "tags": []
   },
   "outputs": [
    {
     "data": {
      "image/png": "[encoded data removed]",
      "text/plain": [
       "<Figure size 600x400 with 1 Axes>"
      ]
     },
     "metadata": {},
     "output_type": "display_data"
    }
   ],
   "source": [
    "logistic_reg_cm = confusion_matrix(y_test, logistic_reg_pred)\n",
    "plt.figure(figsize=(6,4))\n",
    "sns.heatmap(logistic_reg_cm, annot= True, fmt='d', cmap='Blues', cbar=False, )\n",
    "plt.title(\"Confusion Matrix for Logistic Regression\")\n",
    "plt.xlabel(\"Predicted\")\n",
    "plt.ylabel(\"Actual\")\n",
    "plt.show()"
   ]
  },
  {
   "cell_type": "markdown",
   "id": "051e65da",
   "metadata": {
    "papermill": {
     "duration": 0.00677,
     "end_time": "2024-03-10T21:06:07.477475",
     "exception": false,
     "start_time": "2024-03-10T21:06:07.470705",
     "status": "completed"
    },
    "tags": []
   },
   "source": [
    "## Naive Bayes"
   ]
  },
  {
   "cell_type": "code",
   "execution_count": 9,
   "id": "c06ea655",
   "metadata": {
    "execution": {
     "iopub.execute_input": "2024-03-10T21:06:07.492473Z",
     "iopub.status.busy": "2024-03-10T21:06:07.491859Z",
     "iopub.status.idle": "2024-03-10T21:06:07.509309Z",
     "shell.execute_reply": "2024-03-10T21:06:07.507889Z"
    },
    "papermill": {
     "duration": 0.027257,
     "end_time": "2024-03-10T21:06:07.511464",
     "exception": false,
     "start_time": "2024-03-10T21:06:07.484207",
     "status": "completed"
    },
    "tags": []
   },
   "outputs": [
    {
     "name": "stdout",
     "output_type": "stream",
     "text": [
      "Accuracy of Naive Bayes Algorithm is 83.49619978284474 %\n",
      "              precision    recall  f1-score   support\n",
      "\n",
      "           0       0.94      0.77      0.84       531\n",
      "           1       0.74      0.93      0.83       390\n",
      "\n",
      "    accuracy                           0.83       921\n",
      "   macro avg       0.84      0.85      0.83       921\n",
      "weighted avg       0.85      0.83      0.84       921\n",
      "\n"
     ]
    }
   ],
   "source": [
    "naive_bayes = GaussianNB()\n",
    "naive_bayes.fit(X_train_scaled, y_train)\n",
    "\n",
    "naive_bayes_pred = naive_bayes.predict(X_test_scaled)\n",
    "naive_bayes_accuracy = accuracy_score(y_test, naive_bayes_pred)\n",
    "print(\"Accuracy of Naive Bayes Algorithm is\",naive_bayes_accuracy*100,\"%\")\n",
    "print(classification_report(y_test,naive_bayes_pred))"
   ]
  },
  {
   "cell_type": "code",
   "execution_count": 10,
   "id": "74cd5e2b",
   "metadata": {
    "execution": {
     "iopub.execute_input": "2024-03-10T21:06:07.527828Z",
     "iopub.status.busy": "2024-03-10T21:06:07.527163Z",
     "iopub.status.idle": "2024-03-10T21:06:07.620389Z",
     "shell.execute_reply": "2024-03-10T21:06:07.619769Z"
    },
    "papermill": {
     "duration": 0.10369,
     "end_time": "2024-03-10T21:06:07.622579",
     "exception": false,
     "start_time": "2024-03-10T21:06:07.518889",
     "status": "completed"
    },
    "tags": []
   },
   "outputs": [
    {
     "data": {
      "image/png": "[encoded data removed]",
      "text/plain": [
       "<Figure size 600x400 with 1 Axes>"
      ]
     },
     "metadata": {},
     "output_type": "display_data"
    }
   ],
   "source": [
    "naive_bayes_cm = confusion_matrix(y_test, naive_bayes_pred)\n",
    "plt.figure(figsize=(6,4))\n",
    "sns.heatmap(naive_bayes_cm, annot=True, fmt='d', cmap='Blues', cbar=False)\n",
    "plt.title(\"Confusion Matrix for Naive Bayes\")\n",
    "plt.xlabel(\"Predicted\")\n",
    "plt.ylabel(\"Actual\")\n",
    "plt.show()"
   ]
  },
  {
   "cell_type": "markdown",
   "id": "f1f06df1",
   "metadata": {
    "papermill": {
     "duration": 0.008687,
     "end_time": "2024-03-10T21:06:07.640282",
     "exception": false,
     "start_time": "2024-03-10T21:06:07.631595",
     "status": "completed"
    },
    "tags": []
   },
   "source": [
    "## K-Nearest Neighbors"
   ]
  },
  {
   "cell_type": "code",
   "execution_count": 11,
   "id": "c119a116",
   "metadata": {
    "execution": {
     "iopub.execute_input": "2024-03-10T21:06:07.659967Z",
     "iopub.status.busy": "2024-03-10T21:06:07.659389Z",
     "iopub.status.idle": "2024-03-10T21:06:07.786529Z",
     "shell.execute_reply": "2024-03-10T21:06:07.785746Z"
    },
    "papermill": {
     "duration": 0.139255,
     "end_time": "2024-03-10T21:06:07.788326",
     "exception": false,
     "start_time": "2024-03-10T21:06:07.649071",
     "status": "completed"
    },
    "tags": []
   },
   "outputs": [
    {
     "name": "stdout",
     "output_type": "stream",
     "text": [
      "Accuracy for K-Nearest Neighbors Algorithm is: 88.70792616720955 %\n",
      "              precision    recall  f1-score   support\n",
      "\n",
      "           0       0.86      0.96      0.91       531\n",
      "           1       0.94      0.78      0.85       390\n",
      "\n",
      "    accuracy                           0.89       921\n",
      "   macro avg       0.90      0.87      0.88       921\n",
      "weighted avg       0.89      0.89      0.89       921\n",
      "\n"
     ]
    }
   ],
   "source": [
    "knn = KNeighborsClassifier(n_neighbors=2)\n",
    "knn.fit(X_train_scaled, y_train)\n",
    "\n",
    "knn_pred = knn.predict(X_test_scaled)\n",
    "knn_accuracy = accuracy_score(y_test, knn_pred)\n",
    "print(\"Accuracy for K-Nearest Neighbors Algorithm is:\", knn_accuracy*100,\"%\")\n",
    "print(classification_report(y_test,knn_pred))"
   ]
  },
  {
   "cell_type": "code",
   "execution_count": 12,
   "id": "7ad5fb93",
   "metadata": {
    "execution": {
     "iopub.execute_input": "2024-03-10T21:06:07.803852Z",
     "iopub.status.busy": "2024-03-10T21:06:07.803590Z",
     "iopub.status.idle": "2024-03-10T21:06:07.909542Z",
     "shell.execute_reply": "2024-03-10T21:06:07.908809Z"
    },
    "papermill": {
     "duration": 0.115749,
     "end_time": "2024-03-10T21:06:07.911277",
     "exception": false,
     "start_time": "2024-03-10T21:06:07.795528",
     "status": "completed"
    },
    "tags": []
   },
   "outputs": [
    {
     "data": {
      "image/png": "[encoded data removed]",
      "text/plain": [
       "<Figure size 600x400 with 1 Axes>"
      ]
     },
     "metadata": {},
     "output_type": "display_data"
    }
   ],
   "source": [
    "knn_cm = confusion_matrix(y_test,knn_pred)\n",
    "plt.figure(figsize=(6,4))\n",
    "sns.heatmap(knn_cm, annot=True, fmt='d',cmap=\"Blues\",cbar=False)\n",
    "plt.title(\"Confusion Matrix for K-Nearest Neighbor\")\n",
    "plt.xlabel(\"Predicted\")\n",
    "plt.ylabel(\"Actual\")\n",
    "plt.show()"
   ]
  },
  {
   "cell_type": "markdown",
   "id": "6943f97e",
   "metadata": {
    "papermill": {
     "duration": 0.008748,
     "end_time": "2024-03-10T21:06:07.929340",
     "exception": false,
     "start_time": "2024-03-10T21:06:07.920592",
     "status": "completed"
    },
    "tags": []
   },
   "source": [
    "## Support Vector Machine"
   ]
  },
  {
   "cell_type": "code",
   "execution_count": 13,
   "id": "d2f25a93",
   "metadata": {
    "execution": {
     "iopub.execute_input": "2024-03-10T21:06:07.948642Z",
     "iopub.status.busy": "2024-03-10T21:06:07.948144Z",
     "iopub.status.idle": "2024-03-10T21:06:08.217908Z",
     "shell.execute_reply": "2024-03-10T21:06:08.217292Z"
    },
    "papermill": {
     "duration": 0.281419,
     "end_time": "2024-03-10T21:06:08.219816",
     "exception": false,
     "start_time": "2024-03-10T21:06:07.938397",
     "status": "completed"
    },
    "tags": []
   },
   "outputs": [
    {
     "name": "stdout",
     "output_type": "stream",
     "text": [
      "Accuracy for Support Vector Machine algorithm is: 0.9315960912052117 %\n",
      "              precision    recall  f1-score   support\n",
      "\n",
      "           0       0.92      0.97      0.94       531\n",
      "           1       0.95      0.88      0.92       390\n",
      "\n",
      "    accuracy                           0.93       921\n",
      "   macro avg       0.94      0.93      0.93       921\n",
      "weighted avg       0.93      0.93      0.93       921\n",
      "\n"
     ]
    }
   ],
   "source": [
    "svm = SVC()\n",
    "svm.fit(X_train_scaled,y_train)\n",
    "\n",
    "svm_pred = svm.predict(X_test_scaled)\n",
    "svm_accuracy = accuracy_score(y_test,svm_pred)\n",
    "print(\"Accuracy for Support Vector Machine algorithm is:\", svm_accuracy, \"%\")\n",
    "print(classification_report(y_test, svm_pred))"
   ]
  },
  {
   "cell_type": "code",
   "execution_count": 14,
   "id": "381501b4",
   "metadata": {
    "execution": {
     "iopub.execute_input": "2024-03-10T21:06:08.236314Z",
     "iopub.status.busy": "2024-03-10T21:06:08.235956Z",
     "iopub.status.idle": "2024-03-10T21:06:08.341469Z",
     "shell.execute_reply": "2024-03-10T21:06:08.340682Z"
    },
    "papermill": {
     "duration": 0.116282,
     "end_time": "2024-03-10T21:06:08.343562",
     "exception": false,
     "start_time": "2024-03-10T21:06:08.227280",
     "status": "completed"
    },
    "tags": []
   },
   "outputs": [
    {
     "data": {
      "image/png": "[encoded data removed]",
      "text/plain": [
       "<Figure size 600x400 with 1 Axes>"
      ]
     },
     "metadata": {},
     "output_type": "display_data"
    }
   ],
   "source": [
    "svm_cm = confusion_matrix(y_test, svm_pred)\n",
    "plt.figure(figsize=(6,4))\n",
    "sns.heatmap(svm_cm, annot=True, fmt='d',cmap='Blues',cbar=False)\n",
    "plt.title(\"Confusion Matrix for SVM Classifier\")\n",
    "plt.xlabel(\"Predicted\")\n",
    "plt.ylabel(\"Actual\")\n",
    "plt.show()"
   ]
  },
  {
   "cell_type": "markdown",
   "id": "86fb4c65",
   "metadata": {
    "papermill": {
     "duration": 0.009702,
     "end_time": "2024-03-10T21:06:08.363068",
     "exception": false,
     "start_time": "2024-03-10T21:06:08.353366",
     "status": "completed"
    },
    "tags": []
   },
   "source": [
    "## Decision Tree Classifier"
   ]
  },
  {
   "cell_type": "code",
   "execution_count": 15,
   "id": "87a68855",
   "metadata": {
    "execution": {
     "iopub.execute_input": "2024-03-10T21:06:08.383342Z",
     "iopub.status.busy": "2024-03-10T21:06:08.382841Z",
     "iopub.status.idle": "2024-03-10T21:06:08.458246Z",
     "shell.execute_reply": "2024-03-10T21:06:08.457376Z"
    },
    "papermill": {
     "duration": 0.087664,
     "end_time": "2024-03-10T21:06:08.460589",
     "exception": false,
     "start_time": "2024-03-10T21:06:08.372925",
     "status": "completed"
    },
    "tags": []
   },
   "outputs": [
    {
     "name": "stdout",
     "output_type": "stream",
     "text": [
      "Accuracy Score for Decision Tree is:  70.03257328990227 %\n",
      "              precision    recall  f1-score   support\n",
      "\n",
      "           0       0.75      0.73      0.74       531\n",
      "           1       0.64      0.66      0.65       390\n",
      "\n",
      "    accuracy                           0.70       921\n",
      "   macro avg       0.69      0.70      0.69       921\n",
      "weighted avg       0.70      0.70      0.70       921\n",
      "\n"
     ]
    }
   ],
   "source": [
    "decision_tree = DecisionTreeClassifier()\n",
    "decision_tree.fit(X_train_scaled, y_train)\n",
    "\n",
    "decision_tree_pred = decision_tree.predict(X_test_scaled)\n",
    "decision_tree_accuracy = accuracy_score(y_test, decision_tree_pred)\n",
    "print(\"Accuracy Score for Decision Tree is: \",decision_tree_accuracy*100,\"%\")\n",
    "print(classification_report(y_test, decision_tree_pred))"
   ]
  },
  {
   "cell_type": "code",
   "execution_count": 16,
   "id": "cdd68e9d",
   "metadata": {
    "execution": {
     "iopub.execute_input": "2024-03-10T21:06:08.477093Z",
     "iopub.status.busy": "2024-03-10T21:06:08.476801Z",
     "iopub.status.idle": "2024-03-10T21:06:08.581000Z",
     "shell.execute_reply": "2024-03-10T21:06:08.580148Z"
    },
    "papermill": {
     "duration": 0.115557,
     "end_time": "2024-03-10T21:06:08.583941",
     "exception": false,
     "start_time": "2024-03-10T21:06:08.468384",
     "status": "completed"
    },
    "tags": []
   },
   "outputs": [
    {
     "data": {
      "image/png": "[encoded data removed]",
      "text/plain": [
       "<Figure size 600x400 with 1 Axes>"
      ]
     },
     "metadata": {},
     "output_type": "display_data"
    }
   ],
   "source": [
    "decision_tree_cm = confusion_matrix(y_test, decision_tree_pred)\n",
    "plt.figure(figsize=(6,4))\n",
    "sns.heatmap(decision_tree_cm, annot=True, fmt='d', cmap='Blues', cbar=False)\n",
    "plt.title(\"Confusion Matrix for Decision Tree Classifier\")\n",
    "plt.xlabel(\"Predicted\")\n",
    "plt.ylabel(\"Acutal\")\n",
    "plt.show()"
   ]
  },
  {
   "cell_type": "markdown",
   "id": "f6406a02",
   "metadata": {
    "papermill": {
     "duration": 0.009576,
     "end_time": "2024-03-10T21:06:08.604135",
     "exception": false,
     "start_time": "2024-03-10T21:06:08.594559",
     "status": "completed"
    },
    "tags": []
   },
   "source": [
    "## Random Forest Classifier"
   ]
  },
  {
   "cell_type": "code",
   "execution_count": 17,
   "id": "2410b1ff",
   "metadata": {
    "execution": {
     "iopub.execute_input": "2024-03-10T21:06:08.624568Z",
     "iopub.status.busy": "2024-03-10T21:06:08.623931Z",
     "iopub.status.idle": "2024-03-10T21:06:09.305044Z",
     "shell.execute_reply": "2024-03-10T21:06:09.303977Z"
    },
    "papermill": {
     "duration": 0.692936,
     "end_time": "2024-03-10T21:06:09.306764",
     "exception": false,
     "start_time": "2024-03-10T21:06:08.613828",
     "status": "completed"
    },
    "tags": []
   },
   "outputs": [
    {
     "name": "stdout",
     "output_type": "stream",
     "text": [
      "Accuracy score for Random Forest Classifier is:  91.96525515743757 %\n",
      "              precision    recall  f1-score   support\n",
      "\n",
      "           0       0.88      0.99      0.93       531\n",
      "           1       0.99      0.82      0.90       390\n",
      "\n",
      "    accuracy                           0.92       921\n",
      "   macro avg       0.94      0.91      0.92       921\n",
      "weighted avg       0.93      0.92      0.92       921\n",
      "\n"
     ]
    }
   ],
   "source": [
    "random_forest =  RandomForestClassifier()\n",
    "random_forest.fit(X_train_scaled, y_train)\n",
    "\n",
    "random_forest_pred = random_forest.predict(X_test_scaled)\n",
    "random_forest_accuracy = accuracy_score(y_test, random_forest_pred)\n",
    "print(\"Accuracy score for Random Forest Classifier is: \", random_forest_accuracy*100,\"%\")\n",
    "print(classification_report(y_test, random_forest_pred))"
   ]
  },
  {
   "cell_type": "code",
   "execution_count": 18,
   "id": "b032110c",
   "metadata": {
    "execution": {
     "iopub.execute_input": "2024-03-10T21:06:09.327156Z",
     "iopub.status.busy": "2024-03-10T21:06:09.326338Z",
     "iopub.status.idle": "2024-03-10T21:06:09.434265Z",
     "shell.execute_reply": "2024-03-10T21:06:09.433589Z"
    },
    "papermill": {
     "duration": 0.120097,
     "end_time": "2024-03-10T21:06:09.436093",
     "exception": false,
     "start_time": "2024-03-10T21:06:09.315996",
     "status": "completed"
    },
    "tags": []
   },
   "outputs": [
    {
     "data": {
      "image/png": "[encoded data removed]",
      "text/plain": [
       "<Figure size 600x400 with 1 Axes>"
      ]
     },
     "metadata": {},
     "output_type": "display_data"
    }
   ],
   "source": [
    "random_forest_cm = confusion_matrix(y_test, random_forest_pred)\n",
    "plt.figure(figsize=(6,4))\n",
    "sns.heatmap(random_forest_cm, annot=True, fmt='d', cmap='Blues', cbar=False)\n",
    "plt.title(\"Confusion Matrix for Random Forest Model\")\n",
    "plt.xlabel(\"Predicted\")\n",
    "plt.ylabel('Actual')\n",
    "plt.show()"
   ]
  },
  {
   "cell_type": "code",
   "execution_count": 19,
   "id": "e86cfabc",
   "metadata": {
    "execution": {
     "iopub.execute_input": "2024-03-10T21:06:09.457969Z",
     "iopub.status.busy": "2024-03-10T21:06:09.457493Z",
     "iopub.status.idle": "2024-03-10T21:06:09.702577Z",
     "shell.execute_reply": "2024-03-10T21:06:09.701478Z"
    },
    "papermill": {
     "duration": 0.257936,
     "end_time": "2024-03-10T21:06:09.704335",
     "exception": false,
     "start_time": "2024-03-10T21:06:09.446399",
     "status": "completed"
    },
    "tags": []
   },
   "outputs": [
    {
     "data": {
      "image/png": "[encoded data removed]",
      "text/plain": [
       "<Figure size 1200x400 with 1 Axes>"
      ]
     },
     "metadata": {},
     "output_type": "display_data"
    }
   ],
   "source": [
    "model_names = [\"Logistic regression\", \"Naive Bayes\", \"KNN\", \"SVM\", \"Decision Tree\", \"Random Forest\"]\n",
    "accuracy_scores = [logistic_reg_accuracy, naive_bayes_accuracy, knn_accuracy, svm_accuracy, decision_tree_accuracy, random_forest_accuracy]\n",
    "plt.figure(figsize=(12,4))\n",
    "plt.plot(model_names, accuracy_scores, marker='o',linestyle ='-',)\n",
    "plt.title(\"Line chart for accuracy among different Machine learning algorithms\",pad=20, fontsize =15)\n",
    "plt.xlabel(\"Name of the algorithm\",fontsize=14, fontweight=\"bold\")\n",
    "plt.ylabel(\"Accuracy\", fontsize=12, fontweight='bold')\n",
    "\n",
    "for x, y in zip(model_names, accuracy_scores):\n",
    "    plt.annotate(f'{y:.2f}%', (x, y), textcoords=\"offset points\", xytext=(0,10), ha='center')\n",
    "\n",
    "plt.show()\n"
   ]
  },
  {
   "cell_type": "code",
   "execution_count": null,
   "id": "15abda5a",
   "metadata": {
    "papermill": {
     "duration": 0.008148,
     "end_time": "2024-03-10T21:06:09.721026",
     "exception": false,
     "start_time": "2024-03-10T21:06:09.712878",
     "status": "completed"
    },
    "tags": []
   },
   "outputs": [],
   "source": []
  }
 ],
 "metadata": {
  "kaggle": {
   "accelerator": "none",
   "dataSources": [],
   "dockerImageVersionId": 30664,
   "isGpuEnabled": false,
   "isInternetEnabled": true,
   "language": "python",
   "sourceType": "notebook"
  },
  "kernelspec": {
   "display_name": "Python 3",
   "language": "python",
   "name": "python3"
  },
  "language_info": {
   "codemirror_mode": {
    "name": "ipython",
    "version": 3
   },
   "file_extension": ".py",
   "mimetype": "text/x-python",
   "name": "python",
   "nbconvert_exporter": "python",
   "pygments_lexer": "ipython3",
   "version": "3.10.13"
  },
  "papermill": {
   "default_parameters": {},
   "duration": 19.666338,
   "end_time": "2024-03-10T21:06:10.247867",
   "environment_variables": {},
   "exception": null,
   "input_path": "__notebook__.ipynb",
   "output_path": "__notebook__.ipynb",
   "parameters": {},
   "start_time": "2024-03-10T21:05:50.581529",
   "version": "2.5.0"
  }
 },
 "nbformat": 4,
 "nbformat_minor": 5
}
